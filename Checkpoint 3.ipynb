{
 "cells": [
  {
   "cell_type": "code",
   "execution_count": 27,
   "id": "e89df6b7",
   "metadata": {},
   "outputs": [
    {
     "name": "stdout",
     "output_type": "stream",
     "text": [
      "36\n"
     ]
    }
   ],
   "source": [
    "#question 1\n",
    "def multiplyList(myList) : #define my list\n",
    "    i= 1 \n",
    "    for x in myList\n",
    "        i=i * x #formula\n",
    "    return i\n",
    "List=[2,3,6]\n",
    "print(multiplyList(List))"
   ]
  },
  {
   "cell_type": "code",
   "execution_count": 33,
   "id": "65a21c28",
   "metadata": {},
   "outputs": [
    {
     "name": "stdout",
     "output_type": "stream",
     "text": [
      "[(2, 1), (1, 2), (2, 3), (4, 4), (2, 5)]\n"
     ]
    }
   ],
   "source": [
    "#Question 2:\n",
    "def last(n): \n",
    "    return n[-1] #range to start the return\n",
    "def sort(tuples):\n",
    "    return sorted (tuples, key=last) #defin another function with the previous as the key and sort the list\n",
    "x=[(2, 5), (1, 2), (4, 4), (2, 3), (2, 1)]\n",
    "print(sort(x))"
   ]
  },
  {
   "cell_type": "code",
   "execution_count": 71,
   "id": "458aec54",
   "metadata": {},
   "outputs": [
    {
     "name": "stdout",
     "output_type": "stream",
     "text": [
      "{'a': 400, 'b': 400, 'c': 300, 'd': 400}\n"
     ]
    }
   ],
   "source": [
    "#Question 3:\n",
    "\n",
    "d1 = {'a': 100, 'b': 200, 'c': 300}\n",
    "d2 = {'a': 300, 'b': 200, 'd': 400}\n",
    "d3 = dict(d1) #create a new dictionary\n",
    "d3.update(d2) \n",
    "\n",
    "for i, j in d1.items():\n",
    "\n",
    "    for x, y in d2.items():\n",
    "\n",
    "        if i == x:\n",
    "\n",
    "            d3[i]=(j+y)\n",
    "\n",
    "print(d3)\n"
   ]
  },
  {
   "cell_type": "code",
   "execution_count": 72,
   "id": "b5aaf23c",
   "metadata": {},
   "outputs": [
    {
     "name": "stdout",
     "output_type": "stream",
     "text": [
      "number: 8\n",
      "{1: 1, 2: 4, 3: 9, 4: 16, 5: 25, 6: 36, 7: 49, 8: 64}\n"
     ]
    }
   ],
   "source": [
    "#Question 4:\n",
    "number = int(input(\"number: \")) #input to enter the number\n",
    "\n",
    "numberDict = {}\n",
    "for i in range(1, number+1):\n",
    "    numberDict[i] = i*i\n",
    "\n",
    "print(numberDict)"
   ]
  },
  {
   "cell_type": "code",
   "execution_count": 68,
   "id": "16c4eb25",
   "metadata": {},
   "outputs": [
    {
     "name": "stdout",
     "output_type": "stream",
     "text": [
      "[('item3', '24.5'), ('item2', '15.10'), ('item1', '12.20')]\n"
     ]
    }
   ],
   "source": [
    "#Question 5:\n",
    "def Sort(list):\n",
    "    return(sorted(list, key = lambda x: float(x[1]), reverse = True))\n",
    "list= [('item1', '12.20'), ('item2', '15.10'), ('item3', '24.5')]\n",
    "print(Sort(list))"
   ]
  },
  {
   "cell_type": "code",
   "execution_count": null,
   "id": "ea097031",
   "metadata": {},
   "outputs": [],
   "source": []
  }
 ],
 "metadata": {
  "kernelspec": {
   "display_name": "Python 3 (ipykernel)",
   "language": "python",
   "name": "python3"
  },
  "language_info": {
   "codemirror_mode": {
    "name": "ipython",
    "version": 3
   },
   "file_extension": ".py",
   "mimetype": "text/x-python",
   "name": "python",
   "nbconvert_exporter": "python",
   "pygments_lexer": "ipython3",
   "version": "3.9.7"
  }
 },
 "nbformat": 4,
 "nbformat_minor": 5
}
